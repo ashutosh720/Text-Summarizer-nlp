{
 "cells": [
  {
   "metadata": {
    "ExecuteTime": {
     "end_time": "2024-09-30T14:45:59.309692Z",
     "start_time": "2024-09-30T14:45:59.303933Z"
    }
   },
   "cell_type": "code",
   "source": "import os",
   "id": "f4949b08e5506ada",
   "outputs": [],
   "execution_count": 2
  },
  {
   "metadata": {
    "collapsed": true,
    "ExecuteTime": {
     "end_time": "2024-09-30T14:46:00.450920Z",
     "start_time": "2024-09-30T14:46:00.443375Z"
    }
   },
   "cell_type": "code",
   "source": "%pwd",
   "id": "initial_id",
   "outputs": [
    {
     "data": {
      "text/plain": [
       "'F:\\\\Projects-NLP\\\\Text-Summarizer-nlp\\\\research'"
      ]
     },
     "execution_count": 3,
     "metadata": {},
     "output_type": "execute_result"
    }
   ],
   "execution_count": 3
  },
  {
   "metadata": {
    "ExecuteTime": {
     "end_time": "2024-09-30T14:46:08.428557Z",
     "start_time": "2024-09-30T14:46:08.404709Z"
    }
   },
   "cell_type": "code",
   "source": "os.chdir(\"../\")",
   "id": "9b49707be0a0103e",
   "outputs": [],
   "execution_count": 4
  },
  {
   "metadata": {
    "ExecuteTime": {
     "end_time": "2024-09-30T14:46:16.184255Z",
     "start_time": "2024-09-30T14:46:16.178344Z"
    }
   },
   "cell_type": "code",
   "source": "%pwd",
   "id": "9f7b950387bc16c1",
   "outputs": [
    {
     "data": {
      "text/plain": [
       "'F:\\\\Projects-NLP\\\\Text-Summarizer-nlp'"
      ]
     },
     "execution_count": 5,
     "metadata": {},
     "output_type": "execute_result"
    }
   ],
   "execution_count": 5
  },
  {
   "metadata": {
    "ExecuteTime": {
     "end_time": "2024-09-30T14:47:15.814330Z",
     "start_time": "2024-09-30T14:47:15.794606Z"
    }
   },
   "cell_type": "code",
   "source": [
    "from dataclasses import dataclass\n",
    "from pathlib import Path\n",
    "\n",
    "\n",
    "@dataclass(frozen=True)\n",
    "class DataValidationConfig:\n",
    "    root_dir: Path\n",
    "    STATUS_FILE: str\n",
    "    ALL_REQUIRED_FILES: list"
   ],
   "id": "9405ae3143b9db6e",
   "outputs": [],
   "execution_count": 6
  },
  {
   "metadata": {
    "ExecuteTime": {
     "end_time": "2024-09-30T14:52:20.948245Z",
     "start_time": "2024-09-30T14:52:20.892558Z"
    }
   },
   "cell_type": "code",
   "source": [
    "from textSummarizer.constants import *\n",
    "from textSummarizer.utils.common import read_yaml , create_directories\n"
   ],
   "id": "150ba7caffd23e57",
   "outputs": [],
   "execution_count": 7
  },
  {
   "metadata": {
    "ExecuteTime": {
     "end_time": "2024-09-30T14:55:20.418073Z",
     "start_time": "2024-09-30T14:55:20.412331Z"
    }
   },
   "cell_type": "code",
   "source": [
    "class ConfigurationManager:\n",
    "    def __init__(\n",
    "        self,\n",
    "        config_filepath = CONFIG_FILE_PATH,\n",
    "        params_filepath = PARAMS_FILE_PATH):\n",
    "\n",
    "        self.config = read_yaml(config_filepath)\n",
    "        self.params = read_yaml(params_filepath)\n",
    "\n",
    "        create_directories([self.config.artifacts_root])\n",
    "\n",
    "\n",
    "    \n",
    "    def get_data_validation_config(self) -> DataValidationConfig:\n",
    "        config = self.config.data_validation\n",
    "\n",
    "        create_directories([config.root_dir])\n",
    "\n",
    "        data_validation_config = DataValidationConfig(\n",
    "            root_dir=config.root_dir,\n",
    "            STATUS_FILE=config.STATUS_FILE,\n",
    "            ALL_REQUIRED_FILES=config.ALL_REQUIRED_FILES,\n",
    "        )\n",
    "\n",
    "        return data_validation_config"
   ],
   "id": "e3204f227c83585f",
   "outputs": [],
   "execution_count": 8
  },
  {
   "metadata": {
    "ExecuteTime": {
     "end_time": "2024-09-30T14:55:53.777004Z",
     "start_time": "2024-09-30T14:55:53.772389Z"
    }
   },
   "cell_type": "code",
   "source": [
    "import os\n",
    "from textSummarizer.logging import logger"
   ],
   "id": "d863f3135a177f14",
   "outputs": [],
   "execution_count": 9
  },
  {
   "metadata": {
    "ExecuteTime": {
     "end_time": "2024-09-30T15:00:42.598296Z",
     "start_time": "2024-09-30T15:00:42.590064Z"
    }
   },
   "cell_type": "code",
   "source": [
    "class DataValidation:\n",
    "    def __init__(self,config: DataValidationConfig):\n",
    "        self.config = config\n",
    "\n",
    "\n",
    "    \n",
    "    def validate_all_files_exist(self)-> bool:\n",
    "        try:\n",
    "            validation_status = None\n",
    "\n",
    "            all_files = os.listdir(os.path.join(\"artifacts\",\"data_ingestion\",\"samsum_dataset\"))\n",
    "\n",
    "            for file in all_files:\n",
    "                if file not in self.config.ALL_REQUIRED_FILES:\n",
    "                    validation_status = False\n",
    "                    with open(self.config.STATUS_FILE, 'w') as f:\n",
    "                        f.write(f\"Validation status: {validation_status}\")\n",
    "                else:\n",
    "                    validation_status = True\n",
    "                    with open(self.config.STATUS_FILE, 'w') as f:\n",
    "                        f.write(f\"Validation status: {validation_status}\")\n",
    "\n",
    "            return validation_status\n",
    "        \n",
    "        except Exception as e:\n",
    "            raise e\n",
    "        "
   ],
   "id": "c9b9b4d124340d74",
   "outputs": [],
   "execution_count": 10
  },
  {
   "metadata": {
    "ExecuteTime": {
     "end_time": "2024-09-30T15:03:41.684893Z",
     "start_time": "2024-09-30T15:03:41.666850Z"
    }
   },
   "cell_type": "code",
   "source": [
    "try:\n",
    "    config = ConfigurationManager()\n",
    "    data_validation_config = config.get_data_validation_config()\n",
    "    data_validation = DataValidation(config=data_validation_config)\n",
    "    data_validation.validate_all_files_exist()\n",
    "    \n",
    "except Exception as e:\n",
    "    raise e"
   ],
   "id": "82015c0dd3b9f1f9",
   "outputs": [
    {
     "name": "stdout",
     "output_type": "stream",
     "text": [
      "[2024-09-30 20:33:41,673: INFO: common]: yaml file: config\\config.yaml loaded successfully]\n",
      "[2024-09-30 20:33:41,675: INFO: common]: yaml file: params.yaml loaded successfully]\n",
      "[2024-09-30 20:33:41,678: INFO: common]: created directory at: artifacts]\n",
      "[2024-09-30 20:33:41,679: INFO: common]: created directory at: artifacts/data_validation]\n"
     ]
    }
   ],
   "execution_count": 11
  },
  {
   "metadata": {},
   "cell_type": "code",
   "outputs": [],
   "execution_count": null,
   "source": "",
   "id": "28cd0e41e47142df"
  }
 ],
 "metadata": {
  "kernelspec": {
   "display_name": "Python 3",
   "language": "python",
   "name": "python3"
  },
  "language_info": {
   "codemirror_mode": {
    "name": "ipython",
    "version": 2
   },
   "file_extension": ".py",
   "mimetype": "text/x-python",
   "name": "python",
   "nbconvert_exporter": "python",
   "pygments_lexer": "ipython2",
   "version": "2.7.6"
  }
 },
 "nbformat": 4,
 "nbformat_minor": 5
}
