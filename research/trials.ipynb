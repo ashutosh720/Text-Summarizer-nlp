{
 "cells": [
  {
   "cell_type": "code",
   "id": "initial_id",
   "metadata": {
    "collapsed": true,
    "ExecuteTime": {
     "end_time": "2024-09-27T19:51:59.974206Z",
     "start_time": "2024-09-27T19:51:59.969877Z"
    }
   },
   "source": [
    "from idlelib.editor import keynames\n",
    "\n",
    "d = {\"key\": \"value\", \"key1\": \"value1\", \"key2\": \"value2\", \"key3\": \"value3\"}"
   ],
   "outputs": [],
   "execution_count": 1
  },
  {
   "metadata": {
    "ExecuteTime": {
     "end_time": "2024-09-27T19:52:49.952714Z",
     "start_time": "2024-09-27T19:52:49.946974Z"
    }
   },
   "cell_type": "code",
   "source": "d['key']",
   "id": "6a34273435f8453b",
   "outputs": [
    {
     "data": {
      "text/plain": [
       "'value'"
      ]
     },
     "execution_count": 2,
     "metadata": {},
     "output_type": "execute_result"
    }
   ],
   "execution_count": 2
  },
  {
   "metadata": {
    "ExecuteTime": {
     "end_time": "2024-09-27T19:53:01.938866Z",
     "start_time": "2024-09-27T19:53:01.934979Z"
    }
   },
   "cell_type": "code",
   "source": "d.keys",
   "id": "d0330d0d65d8fb2e",
   "outputs": [
    {
     "data": {
      "text/plain": [
       "<function dict.keys>"
      ]
     },
     "execution_count": 3,
     "metadata": {},
     "output_type": "execute_result"
    }
   ],
   "execution_count": 3
  },
  {
   "metadata": {
    "ExecuteTime": {
     "end_time": "2024-09-27T19:53:11.861487Z",
     "start_time": "2024-09-27T19:53:11.857088Z"
    }
   },
   "cell_type": "code",
   "source": "d.keys",
   "id": "a36876da5aad3590",
   "outputs": [
    {
     "data": {
      "text/plain": [
       "<function dict.keys>"
      ]
     },
     "execution_count": 4,
     "metadata": {},
     "output_type": "execute_result"
    }
   ],
   "execution_count": 4
  },
  {
   "metadata": {
    "ExecuteTime": {
     "end_time": "2024-09-27T19:53:55.609719Z",
     "start_time": "2024-09-27T19:53:55.570858Z"
    }
   },
   "cell_type": "code",
   "source": "from box import ConfigBox",
   "id": "2279f994a0fd63f3",
   "outputs": [],
   "execution_count": 7
  },
  {
   "metadata": {
    "ExecuteTime": {
     "end_time": "2024-09-27T19:54:04.356625Z",
     "start_time": "2024-09-27T19:54:04.353690Z"
    }
   },
   "cell_type": "code",
   "source": "d2 = ConfigBox(d)",
   "id": "b866528b99412d73",
   "outputs": [],
   "execution_count": 8
  },
  {
   "metadata": {
    "ExecuteTime": {
     "end_time": "2024-09-27T19:54:07.581426Z",
     "start_time": "2024-09-27T19:54:07.577781Z"
    }
   },
   "cell_type": "code",
   "source": "d2",
   "id": "7486bc4127995854",
   "outputs": [
    {
     "data": {
      "text/plain": [
       "ConfigBox({'key': 'value', 'key1': 'value1', 'key2': 'value2', 'key3': 'value3'})"
      ]
     },
     "execution_count": 9,
     "metadata": {},
     "output_type": "execute_result"
    }
   ],
   "execution_count": 9
  },
  {
   "metadata": {
    "ExecuteTime": {
     "end_time": "2024-09-27T19:54:25.835239Z",
     "start_time": "2024-09-27T19:54:25.831912Z"
    }
   },
   "cell_type": "code",
   "source": "d2.key",
   "id": "fdc80e216eade9c1",
   "outputs": [
    {
     "data": {
      "text/plain": [
       "'value'"
      ]
     },
     "execution_count": 10,
     "metadata": {},
     "output_type": "execute_result"
    }
   ],
   "execution_count": 10
  },
  {
   "metadata": {
    "ExecuteTime": {
     "end_time": "2024-09-27T19:56:03.003483Z",
     "start_time": "2024-09-27T19:56:02.999493Z"
    }
   },
   "cell_type": "code",
   "source": [
    "def get_product(x: int, y: int) -> int:\n",
    "    return x*y"
   ],
   "id": "be6f482aa78f80b0",
   "outputs": [],
   "execution_count": 11
  },
  {
   "metadata": {
    "ExecuteTime": {
     "end_time": "2024-09-27T19:56:13.909793Z",
     "start_time": "2024-09-27T19:56:13.904838Z"
    }
   },
   "cell_type": "code",
   "source": "get_product(x=2, y=5)",
   "id": "e601959f07b03134",
   "outputs": [
    {
     "data": {
      "text/plain": [
       "10"
      ]
     },
     "execution_count": 12,
     "metadata": {},
     "output_type": "execute_result"
    }
   ],
   "execution_count": 12
  },
  {
   "metadata": {
    "ExecuteTime": {
     "end_time": "2024-09-27T20:34:12.098027Z",
     "start_time": "2024-09-27T20:34:12.095069Z"
    }
   },
   "cell_type": "code",
   "source": [
    "from ensure import ensure_annotations\n",
    "\n",
    "@ensure_annotations\n",
    "def get_product(x: int, y: int) -> int:\n",
    "    return x*y"
   ],
   "id": "347549e7caf7dc8",
   "outputs": [],
   "execution_count": 16
  },
  {
   "metadata": {},
   "cell_type": "code",
   "outputs": [],
   "execution_count": null,
   "source": "",
   "id": "350e273be2330d65"
  }
 ],
 "metadata": {
  "kernelspec": {
   "display_name": "Python 3",
   "language": "python",
   "name": "python3"
  },
  "language_info": {
   "codemirror_mode": {
    "name": "ipython",
    "version": 2
   },
   "file_extension": ".py",
   "mimetype": "text/x-python",
   "name": "python",
   "nbconvert_exporter": "python",
   "pygments_lexer": "ipython2",
   "version": "2.7.6"
  }
 },
 "nbformat": 4,
 "nbformat_minor": 5
}
